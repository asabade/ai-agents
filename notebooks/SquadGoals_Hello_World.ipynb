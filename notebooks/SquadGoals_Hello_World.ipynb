{
 "cells": [
  {
   "cell_type": "code",
   "execution_count": 1,
   "id": "3b7a10b5-1673-4895-a461-d4fcffdfde49",
   "metadata": {
    "scrolled": true
   },
   "outputs": [
    {
     "name": "stdout",
     "output_type": "stream",
     "text": [
      "Collecting git+https://github.com/sinanuozdemir/squad-goals.git\n",
      "  Cloning https://github.com/sinanuozdemir/squad-goals.git to /private/var/folders/y9/9xqbqkg90tnc0cmm0dxt985m0000gn/T/pip-req-build-u2zt2c39\n",
      "  Running command git clone --filter=blob:none --quiet https://github.com/sinanuozdemir/squad-goals.git /private/var/folders/y9/9xqbqkg90tnc0cmm0dxt985m0000gn/T/pip-req-build-u2zt2c39\n",
      "  Resolved https://github.com/sinanuozdemir/squad-goals.git to commit 44c4cf1446e15c222072f2dd96f6dc2da301acf3\n",
      "  Installing build dependencies ... \u001b[?25ldone\n",
      "\u001b[?25h  Getting requirements to build wheel ... \u001b[?25ldone\n",
      "\u001b[?25h  Preparing metadata (pyproject.toml) ... \u001b[?25ldone\n",
      "\u001b[?25hRequirement already satisfied: requests in /Users/sinanozdemir/Teaching/Pearson/oreilly-ai-agents/.venv/lib/python3.11/site-packages (from Agents==0.1) (2.32.3)\n",
      "Requirement already satisfied: charset-normalizer<4,>=2 in /Users/sinanozdemir/Teaching/Pearson/oreilly-ai-agents/.venv/lib/python3.11/site-packages (from requests->Agents==0.1) (3.4.0)\n",
      "Requirement already satisfied: idna<4,>=2.5 in /Users/sinanozdemir/Teaching/Pearson/oreilly-ai-agents/.venv/lib/python3.11/site-packages (from requests->Agents==0.1) (3.10)\n",
      "Requirement already satisfied: urllib3<3,>=1.21.1 in /Users/sinanozdemir/Teaching/Pearson/oreilly-ai-agents/.venv/lib/python3.11/site-packages (from requests->Agents==0.1) (2.2.3)\n",
      "Requirement already satisfied: certifi>=2017.4.17 in /Users/sinanozdemir/Teaching/Pearson/oreilly-ai-agents/.venv/lib/python3.11/site-packages (from requests->Agents==0.1) (2024.8.30)\n",
      "Building wheels for collected packages: Agents\n",
      "  Building wheel for Agents (pyproject.toml) ... \u001b[?25ldone\n",
      "\u001b[?25h  Created wheel for Agents: filename=Agents-0.1-py3-none-any.whl size=15140 sha256=e3e3d4e6ec31a07c42ac1510005cdf0d8b9415bfe356f11acc0200be38bb4fab\n",
      "  Stored in directory: /private/var/folders/y9/9xqbqkg90tnc0cmm0dxt985m0000gn/T/pip-ephem-wheel-cache-gkrie97m/wheels/d9/67/26/2a56f686272fa298e22ad39c6f4e286c3e6477c90ce32d663d\n",
      "Successfully built Agents\n",
      "Installing collected packages: Agents\n",
      "Successfully installed Agents-0.1\n",
      "\n",
      "\u001b[1m[\u001b[0m\u001b[34;49mnotice\u001b[0m\u001b[1;39;49m]\u001b[0m\u001b[39;49m A new release of pip is available: \u001b[0m\u001b[31;49m24.1.2\u001b[0m\u001b[39;49m -> \u001b[0m\u001b[32;49m24.3.1\u001b[0m\n",
      "\u001b[1m[\u001b[0m\u001b[34;49mnotice\u001b[0m\u001b[1;39;49m]\u001b[0m\u001b[39;49m To update, run: \u001b[0m\u001b[32;49mpip install --upgrade pip\u001b[0m\n"
     ]
    }
   ],
   "source": [
    "!pip install --upgrade git+https://github.com/sinanuozdemir/squad-goals.git"
   ]
  },
  {
   "cell_type": "code",
   "execution_count": 19,
   "id": "initial_id",
   "metadata": {
    "ExecuteTime": {
     "end_time": "2024-10-26T18:50:39.842642Z",
     "start_time": "2024-10-26T18:50:39.323292Z"
    }
   },
   "outputs": [],
   "source": [
    "from squad_goals import Agent, Task\n",
    "from squad_goals.tools import SerpTool\n",
    "from squad_goals.llms import OpenAILLM, AnthropicLLM, GeminiLLM, OllamaLLM"
   ]
  },
  {
   "cell_type": "code",
   "execution_count": 3,
   "id": "6d2d7ac3-2a79-4fbe-b53f-932f43e75558",
   "metadata": {},
   "outputs": [],
   "source": [
    "import os\n",
    "os.environ['SERP_API_KEY'] = 'your_serp_key'\n",
    "os.environ['OPENAI_API_KEY'] = 'your_openai_key'\n",
    "os.environ['OPENAI_API_KEY'] = 'your_openai_key'\n",
    "os.environ['ANTHROPIC_API_KEY'] = 'your_anthropic_key'\n",
    "os.environ['GOOGLE_CREDENTIALS'] = '../secrets/path_to_credietnials.json'"
   ]
  },
  {
   "cell_type": "markdown",
   "id": "f2c1bb13-16b6-4fe1-b2fa-059e486ccfb3",
   "metadata": {},
   "source": [
    "# LLMs"
   ]
  },
  {
   "cell_type": "code",
   "execution_count": 29,
   "id": "80330582-1390-4580-8197-b42b2c0e346d",
   "metadata": {
    "scrolled": true
   },
   "outputs": [],
   "source": [
    "# !python -m pip install google-generativeai"
   ]
  },
  {
   "cell_type": "code",
   "execution_count": 30,
   "id": "e32aa0b0-643d-41c2-9b47-31a5be8aa702",
   "metadata": {},
   "outputs": [
    {
     "data": {
      "text/plain": [
       "'Ankara\\n'"
      ]
     },
     "execution_count": 30,
     "metadata": {},
     "output_type": "execute_result"
    }
   ],
   "source": [
    "gemini_llm = GeminiLLM()\n",
    "gemini_llm.generate([{'role': 'user', 'content': 'What is the capital of Turkey?'}])"
   ]
  },
  {
   "cell_type": "code",
   "execution_count": null,
   "id": "0b58d6f8-dc15-4ed8-a933-65d75aacad35",
   "metadata": {},
   "outputs": [],
   "source": [
    "# !python -m pip install ollama"
   ]
  },
  {
   "cell_type": "code",
   "execution_count": 25,
   "id": "88a7e8e4-3805-4a1c-aadd-d27622d2c08c",
   "metadata": {},
   "outputs": [
    {
     "data": {
      "text/plain": [
       "'The capital of Turkey is Ankara.'"
      ]
     },
     "execution_count": 25,
     "metadata": {},
     "output_type": "execute_result"
    }
   ],
   "source": [
    "# Using local llama 3.2\n",
    "ollama_llm = OllamaLLM(model_name='llama3.2')\n",
    "ollama_llm.generate([{'role': 'user', 'content': 'What is the capital of Turkey?'}])"
   ]
  },
  {
   "cell_type": "code",
   "execution_count": 15,
   "id": "b571194fd5c2b337",
   "metadata": {
    "ExecuteTime": {
     "end_time": "2024-10-26T18:50:39.877219Z",
     "start_time": "2024-10-26T18:50:39.844962Z"
    },
    "collapsed": false,
    "jupyter": {
     "outputs_hidden": false
    }
   },
   "outputs": [
    {
     "data": {
      "text/plain": [
       "'The capital of Turkey is Ankara.'"
      ]
     },
     "execution_count": 15,
     "metadata": {},
     "output_type": "execute_result"
    }
   ],
   "source": [
    "# OpenAI llm\n",
    "openai_llm = OpenAILLM(model_name='gpt-4o-mini')\n",
    "openai_llm.generate([{'role': 'user', 'content': 'What is the capital of Turkey?'}])"
   ]
  },
  {
   "cell_type": "code",
   "execution_count": 33,
   "id": "408d7b7c-9b74-4f75-88e5-1f65a5baafbf",
   "metadata": {},
   "outputs": [],
   "source": [
    "# !python -m pip install anthropic"
   ]
  },
  {
   "cell_type": "code",
   "execution_count": 63,
   "id": "92e9ca9d-bdc8-4195-9186-a1269c56d05d",
   "metadata": {},
   "outputs": [
    {
     "data": {
      "text/plain": [
       "'The capital of Turkey is Ankara. It became the capital in 1923 when the Republic of Turkey was established, replacing Istanbul (formerly Constantinople) as the capital city.'"
      ]
     },
     "execution_count": 63,
     "metadata": {},
     "output_type": "execute_result"
    }
   ],
   "source": [
    "anthropic_llm = AnthropicLLM(model_name='claude-3-5-sonnet-latest')  \n",
    "anthropic_llm.generate([{'role': 'user', 'content': 'What is the capital of Turkey?'}])"
   ]
  },
  {
   "cell_type": "markdown",
   "id": "d4866da2-8b3f-4899-bf45-697f4227677d",
   "metadata": {},
   "source": [
    "# Tools"
   ]
  },
  {
   "cell_type": "code",
   "execution_count": 35,
   "id": "ec3f81ddf9747c02",
   "metadata": {
    "ExecuteTime": {
     "end_time": "2024-10-26T18:50:39.877419Z",
     "start_time": "2024-10-26T18:50:39.853590Z"
    },
    "collapsed": false,
    "jupyter": {
     "outputs_hidden": false
    }
   },
   "outputs": [
    {
     "data": {
      "text/plain": [
       "[{'title': 'Thomas Jefferson',\n",
       "  'link': 'https://en.wikipedia.org/wiki/Thomas_Jefferson',\n",
       "  'snippet': 'Thomas Jefferson (April 13, 1743 – July 4, 1826) was an American statesman, planter, diplomat, lawyer, architect, philosopher, and Founding Father who ...'},\n",
       " {'title': 'Thomas Jefferson',\n",
       "  'link': 'https://www.whitehousehistory.org/bios/thomas-jefferson',\n",
       "  'snippet': 'Jefferson soon emerged as a leader of the Democratic-Republicans, receiving enough Electoral College votes in 1796 to become vice president under John Adams.'},\n",
       " {'title': 'Presidents of the United States of America',\n",
       "  'link': 'https://www.ohiosos.gov/elections/election-results-and-data/historical-election-comparisons/presidents-of-the-united-states-of-america/',\n",
       "  'snippet': '4,5 · 6,7 · 8,9 · 10 ; Thomas Jefferson · James Madison · James Monroe · John Quincy Adams.'}]"
      ]
     },
     "execution_count": 35,
     "metadata": {},
     "output_type": "execute_result"
    }
   ],
   "source": [
    "# Load up the SERP tool for real-time googling\n",
    "serp_tool = SerpTool()\n",
    "serp_tool.run('Who was the third US president')[:3]"
   ]
  },
  {
   "cell_type": "code",
   "execution_count": 59,
   "id": "74913597e9f550b9",
   "metadata": {
    "ExecuteTime": {
     "end_time": "2024-10-26T18:50:40.147603Z",
     "start_time": "2024-10-26T18:50:40.141141Z"
    },
    "collapsed": false,
    "jupyter": {
     "outputs_hidden": false
    }
   },
   "outputs": [],
   "source": [
    "a = Agent(\n",
    "    tools=[serp_tool],\n",
    "    llm=anthropic_llm,\n",
    "    verbose=True\n",
    ")"
   ]
  },
  {
   "cell_type": "code",
   "execution_count": 60,
   "id": "c7fffe4ea52c859c",
   "metadata": {
    "ExecuteTime": {
     "end_time": "2024-10-26T18:50:47.243146Z",
     "start_time": "2024-10-26T18:50:42.235429Z"
    },
    "collapsed": false,
    "jupyter": {
     "outputs_hidden": false
    }
   },
   "outputs": [
    {
     "name": "stdout",
     "output_type": "stream",
     "text": [
      "Loop 1. Choosing tool SerpAPI Tool with input: {'query': 'Sinan Ozdemir data scientist author'}\n",
      "Loop 2. Returning final answer\n",
      "Task completed in 2 loops. use \"print(task.output)\" to see the final answer\n",
      "\"Sinan Ozdemir is a prominent figure in the data science field with multiple notable achievements. He is a mathematician, data scientist, and NLP (Natural Language Processing) expert who has authored five books on Machine Learning and Data Science, including the well-known 'Principles of Data Science.' His academic career includes being a former lecturer of Data Science at Johns Hopkins University. In the business world, he was the founder of Kylie.ai (which was acquired) and currently serves on the Forbes Technology Council. He's also known for being an NLP and Generative AI expert, a YCombinator Fellow, and a Forbes contributor. His expertise spans mathematics, computer science, and time management. Currently based in San Francisco, he continues to contribute to the field through his work, writing, and teaching at renowned institutions including O'Reilly and Pearson.\"\n"
     ]
    }
   ],
   "source": [
    "lookup_task = Task(\n",
    "    name='Lookup',\n",
    "    goal='Tell me about Sinan Ozdemir. Only make one web search.',\n",
    ")\n",
    "a.run(lookup_task)\n",
    "print(lookup_task.output)"
   ]
  },
  {
   "cell_type": "code",
   "execution_count": 61,
   "id": "573bdaa1fcc4dc85",
   "metadata": {
    "ExecuteTime": {
     "end_time": "2024-10-26T18:51:11.658927Z",
     "start_time": "2024-10-26T18:51:04.499025Z"
    },
    "collapsed": false,
    "jupyter": {
     "outputs_hidden": false
    }
   },
   "outputs": [
    {
     "name": "stdout",
     "output_type": "stream",
     "text": [
      "Loop 1. Choosing tool SerpAPI Tool with input: {'query': 'Sinan Ozdemir data scientist author'}\n",
      "Loop 2. Choosing tool SerpAPI Tool with input: {'query': 'Sinan Ozdemir Loop Genius founder Kylie.ai recent'}\n",
      "Loop 3. Choosing tool SerpAPI Tool with input: {'query': 'Sinan Ozdemir education Johns Hopkins latest book'}\n",
      "Loop 4. Returning final answer\n",
      "Task completed in 4 loops. use \"print(task.output)\" to see the final answer\n",
      "\"Sinan Ozdemir is a prominent figure in the field of artificial intelligence, data science, and machine learning. Here's a comprehensive overview:Professional Career:- Currently the founder and CTO of LoopGenius, where he uses state-of-the-art AI to help people create and run their businesses- Founded Kylie.ai, an enterprise-grade conversational AI platform with RPA capabilities, which was successfully acquired- Former lecturer of Data Science at Johns Hopkins University- Member of the Forbes Technology Council- NLP and Generative AI expertAcademic and Literary Contributions:- Has authored multiple books on Data Science and Machine Learning, including:  * 'Quick Start Guide to Large Language Models'  * 'Principles of Data Science'  * 'Feature Engineering Made Easy'- Has published at least 9 books in total on these topics- Has taught for prestigious institutions including O'Reilly and PearsonAreas of Expertise:- Machine Learning and Data Science- Natural Language Processing (NLP)- Large Language Models (LLMs)- Conversational AI- Mathematics and Computer ScienceEducation:- Holds a Master's degree- Has strong academic credentials in mathematics and data scienceCurrent Focus:- Specializes in Generative AI and LLMs- Advises several AI companies- Contributes to Forbes- Y Combinator Fellow- Based in San Francisco, CAHis work combines academic expertise with practical business applications, making him a respected voice in both educational and entrepreneurial contexts in the AI field.\"\n"
     ]
    }
   ],
   "source": [
    "wider_lookup_task = Task(\n",
    "    name='Lookup',\n",
    "    goal='Tell me about Sinan Ozdemir. Make multiple web lookups.',\n",
    ")\n",
    "a = Agent(\n",
    "    tools=[serp_tool],\n",
    "    llm=anthropic_llm,\n",
    "    verbose=True\n",
    ")  # just to reset the state\n",
    "\n",
    "a.run(wider_lookup_task)\n",
    "print(wider_lookup_task.output)"
   ]
  },
  {
   "cell_type": "code",
   "execution_count": 7,
   "id": "f21645b5f97680c9",
   "metadata": {
    "ExecuteTime": {
     "end_time": "2024-10-26T18:45:33.592865Z",
     "start_time": "2024-10-26T18:45:33.568884Z"
    },
    "collapsed": false,
    "jupyter": {
     "outputs_hidden": false
    }
   },
   "outputs": [],
   "source": []
  }
 ],
 "metadata": {
  "kernelspec": {
   "display_name": "Python 3 (ipykernel)",
   "language": "python",
   "name": "python3"
  },
  "language_info": {
   "codemirror_mode": {
    "name": "ipython",
    "version": 3
   },
   "file_extension": ".py",
   "mimetype": "text/x-python",
   "name": "python",
   "nbconvert_exporter": "python",
   "pygments_lexer": "ipython3",
   "version": "3.11.9"
  }
 },
 "nbformat": 4,
 "nbformat_minor": 5
}
