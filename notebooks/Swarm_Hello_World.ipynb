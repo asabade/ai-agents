{
 "cells": [
  {
   "cell_type": "markdown",
   "metadata": {},
   "source": [
    "# Hello World"
   ]
  },
  {
   "cell_type": "code",
   "execution_count": 1,
   "metadata": {},
   "outputs": [],
   "source": [
    "import os\n",
    "\n",
    "os.environ[\"OPENAI_API_KEY\"] = 'your_open_key'"
   ]
  },
  {
   "cell_type": "code",
   "execution_count": 3,
   "metadata": {
    "colab": {
     "base_uri": "https://localhost:8080/"
    },
    "id": "sx5hFpbzcUTn",
    "outputId": "56766ad2-a172-4edd-cb4a-f8b5b3524b4a"
   },
   "outputs": [
    {
     "name": "stdout",
     "output_type": "stream",
     "text": [
      "Transferring to Agent B...\n",
      "Agent B is here now,  \n",
      "Ready to assist your needs,  \n",
      "Speak your mind freely.\n"
     ]
    }
   ],
   "source": [
    "from swarm import Swarm, Agent\n",
    "\n",
    "client = Swarm()\n",
    "\n",
    "def transfer_to_agent_b():\n",
    "    print(\"Transferring to Agent B...\")\n",
    "    return agent_b\n",
    "\n",
    "\n",
    "agent_a = Agent(\n",
    "    name=\"Agent A\",\n",
    "    instructions=\"You are a helpful agent.\",\n",
    "    functions=[transfer_to_agent_b],\n",
    ")\n",
    "\n",
    "agent_b = Agent(\n",
    "    name=\"Agent B\",\n",
    "    instructions=\"Only speak in Haikus.\",\n",
    ")\n",
    "\n",
    "response = client.run(\n",
    "    agent=agent_a,\n",
    "    messages=[{\"role\": \"user\", \"content\": \"I want to talk to agent B.\"}],\n",
    ")\n",
    "\n",
    "print(response.messages[-1][\"content\"])"
   ]
  },
  {
   "cell_type": "code",
   "execution_count": null,
   "metadata": {
    "id": "VX4mDbbqcw__"
   },
   "outputs": [],
   "source": []
  },
  {
   "cell_type": "code",
   "execution_count": null,
   "metadata": {
    "id": "qI18uCsrcxKI"
   },
   "outputs": [],
   "source": []
  },
  {
   "cell_type": "code",
   "execution_count": 4,
   "metadata": {
    "id": "4MMXu7YIc09Y"
   },
   "outputs": [],
   "source": [
    "import json\n",
    "\n",
    "from swarm import Agent\n",
    "\n",
    "\n",
    "def get_weather(location, time=\"now\"):\n",
    "    \"\"\"Get the current weather in a given location. Location MUST be a city.\"\"\"\n",
    "    return json.dumps({\"location\": location, \"temperature\": \"65\", \"time\": time})\n",
    "\n",
    "\n",
    "def send_email(recipient, subject, body):\n",
    "    print(\"Sending email...\")\n",
    "    print(f\"To: {recipient}\")\n",
    "    print(f\"Subject: {subject}\")\n",
    "    print(f\"Body: {body}\")\n",
    "    return \"Sent!\"\n",
    "\n",
    "\n",
    "weather_agent = Agent(\n",
    "    name=\"Weather Agent\",\n",
    "    instructions=\"You are a helpful agent.\",\n",
    "    functions=[get_weather, send_email],\n",
    ")"
   ]
  },
  {
   "cell_type": "code",
   "execution_count": 5,
   "metadata": {
    "id": "TNrMM4DIdlMK"
   },
   "outputs": [],
   "source": [
    "\n",
    "response = client.run(\n",
    "    agent=weather_agent,\n",
    "    messages=[{\"role\": \"user\", \"content\": \"What's the weather in NYC?\"}],\n",
    ")\n"
   ]
  },
  {
   "cell_type": "code",
   "execution_count": 6,
   "metadata": {
    "colab": {
     "base_uri": "https://localhost:8080/"
    },
    "id": "my49urWndlbO",
    "outputId": "37503f0d-2def-41e8-c2d1-bb8da9acced5"
   },
   "outputs": [
    {
     "name": "stdout",
     "output_type": "stream",
     "text": [
      "The current temperature in New York City is 65°F.\n"
     ]
    }
   ],
   "source": [
    "print(response.messages[-1][\"content\"])"
   ]
  },
  {
   "cell_type": "code",
   "execution_count": 7,
   "metadata": {
    "colab": {
     "base_uri": "https://localhost:8080/"
    },
    "id": "8_KFco0XdtSe",
    "outputId": "378173c5-2274-4b5d-e724-29ac1283dee9"
   },
   "outputs": [
    {
     "name": "stdout",
     "output_type": "stream",
     "text": [
      "Sending email...\n",
      "To: sinan@loopgenius.com\n",
      "Subject: Laughter in the air,\n",
      "a chuckle through the inbox,\n",
      "joy shared in haiku.\n",
      "Body: Why don't scientists trust atoms?\n",
      "\n",
      "Because they make up everything!\n"
     ]
    }
   ],
   "source": [
    "response = client.run(\n",
    "    agent=weather_agent,\n",
    "    messages=[{\"role\": \"user\", \"content\": \"Can you send an email to sinan@loopgenius.com with a joke?. Make the subject a haiku.\"}],\n",
    ")"
   ]
  },
  {
   "cell_type": "code",
   "execution_count": 8,
   "metadata": {
    "colab": {
     "base_uri": "https://localhost:8080/"
    },
    "id": "3_i3x7Pndtfx",
    "outputId": "a1002ec7-63f8-4c17-979f-c9764e767230"
   },
   "outputs": [
    {
     "name": "stdout",
     "output_type": "stream",
     "text": [
      "I've sent the email to sinan@loopgenius.com with a humorous subject in haiku form and a joke in the body.\n"
     ]
    }
   ],
   "source": [
    "print(response.messages[-1][\"content\"])"
   ]
  },
  {
   "cell_type": "code",
   "execution_count": null,
   "metadata": {
    "id": "LZ8woa-Td1I0"
   },
   "outputs": [],
   "source": []
  },
  {
   "cell_type": "code",
   "execution_count": 9,
   "metadata": {
    "colab": {
     "base_uri": "https://localhost:8080/"
    },
    "id": "STZVqpgMca2i",
    "outputId": "f2a350ec-775e-4b81-c57a-1c871702a91a"
   },
   "outputs": [
    {
     "name": "stdout",
     "output_type": "stream",
     "text": [
      "[{'id': 'call_yDWmYOAGWH5NDzFiJgobZVk7', 'function': {'arguments': '{\"location\":\"New York City\"}', 'name': 'get_weather'}, 'type': 'function'}]\n"
     ]
    }
   ],
   "source": [
    "from swarm import Swarm\n",
    "import pytest\n",
    "\n",
    "client = Swarm()\n",
    "\n",
    "\n",
    "def run_and_get_tool_calls(agent, query):\n",
    "    message = {\"role\": \"user\", \"content\": query}\n",
    "    response = client.run(\n",
    "        agent=agent,\n",
    "        messages=[message],\n",
    "        execute_tools=False,\n",
    "    )\n",
    "    return response.messages[-1].get(\"tool_calls\")\n",
    "\n",
    "\n",
    "def test_calls_weather_when_asked(query):\n",
    "    tool_calls = run_and_get_tool_calls(weather_agent, query)\n",
    "    print(tool_calls)\n",
    "\n",
    "    assert len(tool_calls) == 1\n",
    "    assert tool_calls[0][\"function\"][\"name\"] == \"get_weather\"\n",
    "\n",
    "test_calls_weather_when_asked(\"What's the weather in NYC?\")"
   ]
  },
  {
   "cell_type": "code",
   "execution_count": null,
   "metadata": {
    "id": "PYoinXVIc7Uf"
   },
   "outputs": [],
   "source": []
  },
  {
   "cell_type": "code",
   "execution_count": 10,
   "metadata": {
    "colab": {
     "base_uri": "https://localhost:8080/"
    },
    "id": "MZAsgzNzcxfS",
    "outputId": "0bcfb489-97ad-4c65-a53a-2b4dc888742c"
   },
   "outputs": [
    {
     "name": "stdout",
     "output_type": "stream",
     "text": [
      "None\n"
     ]
    }
   ],
   "source": [
    "def test_does_not_call_weather_when_not_asked(query):\n",
    "    tool_calls = run_and_get_tool_calls(weather_agent, query)\n",
    "    print(tool_calls)\n",
    "\n",
    "    assert not tool_calls\n",
    "test_does_not_call_weather_when_not_asked(\"Hey\")"
   ]
  },
  {
   "cell_type": "code",
   "execution_count": null,
   "metadata": {
    "id": "6GTYobWserxM"
   },
   "outputs": [],
   "source": []
  },
  {
   "cell_type": "code",
   "execution_count": null,
   "metadata": {
    "id": "30zi9gICer8X"
   },
   "outputs": [],
   "source": []
  },
  {
   "cell_type": "code",
   "execution_count": null,
   "metadata": {
    "id": "tMXwOo2fesF7"
   },
   "outputs": [],
   "source": []
  },
  {
   "cell_type": "markdown",
   "metadata": {
    "id": "YWAdh9C2e2Ml"
   },
   "source": [
    "# Triage"
   ]
  },
  {
   "cell_type": "code",
   "execution_count": 11,
   "metadata": {
    "id": "pA40Ag62dBB0"
   },
   "outputs": [],
   "source": [
    "from swarm import Agent\n",
    "\n",
    "\n",
    "def process_refund(item_id, reason=\"NOT SPECIFIED\"):\n",
    "    \"\"\"Refund an item. Refund an item. Make sure you have the item_id of the form item_... Ask for user confirmation before processing the refund.\"\"\"\n",
    "    print(f\"[mock] Refunding item {item_id} because {reason}...\")\n",
    "    return \"Success!\"\n",
    "\n",
    "\n",
    "def apply_discount():\n",
    "    \"\"\"Apply a discount to the user's cart.\"\"\"\n",
    "    print(\"[mock] Applying discount...\")\n",
    "    return \"Applied discount of 11%\"\n",
    "\n",
    "\n",
    "triage_agent = Agent(\n",
    "    name=\"Triage Agent\",\n",
    "    instructions=\"Determine which agent is best suited to handle the user's request, and transfer the conversation to that agent.\",\n",
    ")\n",
    "sales_agent = Agent(\n",
    "    name=\"Sales Agent\",\n",
    "    instructions=\"Be super enthusiastic about selling bees.\",\n",
    ")\n",
    "refunds_agent = Agent(\n",
    "    name=\"Refunds Agent\",\n",
    "    instructions=\"Help the user with a refund. If the reason is that it was too expensive, offer the user a refund code. If they insist, then process the refund.\",\n",
    "    functions=[process_refund, apply_discount],\n",
    ")\n",
    "\n",
    "\n",
    "def transfer_back_to_triage():\n",
    "    \"\"\"Call this function if a user is asking about a topic that is not handled by the current agent.\"\"\"\n",
    "    return triage_agent\n",
    "\n",
    "\n",
    "def transfer_to_sales():\n",
    "    return sales_agent\n",
    "\n",
    "\n",
    "def transfer_to_refunds():\n",
    "    return refunds_agent\n",
    "\n",
    "triage_agent.functions = [transfer_to_sales, transfer_to_refunds]\n",
    "sales_agent.functions.append(transfer_back_to_triage)\n",
    "refunds_agent.functions.append(transfer_back_to_triage)"
   ]
  },
  {
   "cell_type": "code",
   "execution_count": 12,
   "metadata": {
    "colab": {
     "base_uri": "https://localhost:8080/"
    },
    "id": "tq3jUyfYe3id",
    "outputId": "4354b5a6-21d6-48bc-adb2-1459aa5c01e4"
   },
   "outputs": [
    {
     "name": "stdout",
     "output_type": "stream",
     "text": [
      "User: Hi! I need a refund\n",
      "Swarm: Hello! I can help you with a refund. Could you please let me know the reason for the refund request?\n",
      "User: It's too expensive\n",
      "Swarm: I can offer you a refund code to help with future purchases. Would you like that, or do you still wish to process the refund for this item?\n"
     ]
    }
   ],
   "source": [
    "user_messages = []\n",
    "for user_message in ['Hi! I need a refund', \"It's too expensive\"]:\n",
    "    print(f\"User: {user_message}\")\n",
    "    user_messages.append({\"role\": \"user\", \"content\": user_message})\n",
    "    response = client.run(\n",
    "        agent=triage_agent,\n",
    "        messages=user_messages\n",
    "    )\n",
    "    swarm_response = response.messages[-1][\"content\"]\n",
    "    print(f\"Swarm: {swarm_response}\")\n",
    "    user_messages.append({\"role\": \"assistant\", \"content\": swarm_response})"
   ]
  },
  {
   "cell_type": "code",
   "execution_count": null,
   "metadata": {
    "id": "IMn8lyFGe3m5"
   },
   "outputs": [],
   "source": []
  },
  {
   "cell_type": "code",
   "execution_count": 13,
   "metadata": {
    "id": "PylB-ob_e3xo"
   },
   "outputs": [],
   "source": [
    "from swarm import Swarm\n",
    "import json\n",
    "\n",
    "client = Swarm()\n",
    "\n",
    "def run_and_get_tool_calls(agent, query):\n",
    "    message = {\"role\": \"user\", \"content\": query}\n",
    "    response = client.run(\n",
    "        agent=agent,\n",
    "        messages=[message],\n",
    "        execute_tools=False,\n",
    "    )\n",
    "    return response.messages[-1].get(\"tool_calls\")"
   ]
  },
  {
   "cell_type": "code",
   "execution_count": 14,
   "metadata": {
    "colab": {
     "base_uri": "https://localhost:8080/"
    },
    "id": "TIc1m2MresQG",
    "outputId": "e09b6293-d75a-4ae8-b699-4e087f11fac7"
   },
   "outputs": [
    {
     "name": "stdout",
     "output_type": "stream",
     "text": [
      "[{'id': 'call_5PNrDbP4024chIqlJ6lwDQEm', 'function': {'arguments': '{}', 'name': 'transfer_to_refunds'}, 'type': 'function'}]\n"
     ]
    }
   ],
   "source": [
    "def test_triage_agent_calls_correct_function(query, function_name):\n",
    "    tool_calls = run_and_get_tool_calls(triage_agent, query)\n",
    "    print(tool_calls)\n",
    "\n",
    "    assert len(tool_calls) == 1\n",
    "    assert tool_calls[0][\"function\"][\"name\"] == function_name\n",
    "\n",
    "test_triage_agent_calls_correct_function(\"I want to make a refund.\", \"transfer_to_refunds\")"
   ]
  },
  {
   "cell_type": "code",
   "execution_count": null,
   "metadata": {
    "id": "okUpx9jFfKtN"
   },
   "outputs": [],
   "source": []
  }
 ],
 "metadata": {
  "colab": {
   "provenance": []
  },
  "kernelspec": {
   "display_name": "Python 3 (ipykernel)",
   "language": "python",
   "name": "python3"
  },
  "language_info": {
   "codemirror_mode": {
    "name": "ipython",
    "version": 3
   },
   "file_extension": ".py",
   "mimetype": "text/x-python",
   "name": "python",
   "nbconvert_exporter": "python",
   "pygments_lexer": "ipython3",
   "version": "3.11.9"
  }
 },
 "nbformat": 4,
 "nbformat_minor": 4
}
